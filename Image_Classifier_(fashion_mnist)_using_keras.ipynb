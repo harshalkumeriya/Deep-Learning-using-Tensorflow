{
  "nbformat": 4,
  "nbformat_minor": 0,
  "metadata": {
    "colab": {
      "name": "Image Classifier (fashion mnist) using keras.ipynb",
      "provenance": [],
      "authorship_tag": "ABX9TyMCRwBf+kIpALI6rygWTxyE",
      "include_colab_link": true
    },
    "kernelspec": {
      "name": "python3",
      "display_name": "Python 3"
    }
  },
  "cells": [
    {
      "cell_type": "markdown",
      "metadata": {
        "id": "view-in-github",
        "colab_type": "text"
      },
      "source": [
        "<a href=\"https://colab.research.google.com/github/harshalkumeriya/Deep-Learning-using-Tensorflow/blob/master/Image_Classifier_(fashion_mnist)_using_keras.ipynb\" target=\"_parent\"><img src=\"https://colab.research.google.com/assets/colab-badge.svg\" alt=\"Open In Colab\"/></a>"
      ]
    },
    {
      "cell_type": "code",
      "metadata": {
        "id": "egcm4jBYR-LA",
        "colab_type": "code",
        "colab": {
          "base_uri": "https://localhost:8080/",
          "height": 35
        },
        "outputId": "713ac357-4b3e-4171-e7e1-81f3554bc66c"
      },
      "source": [
        "import tensorflow as tf\n",
        "tf.__version__"
      ],
      "execution_count": 1,
      "outputs": [
        {
          "output_type": "execute_result",
          "data": {
            "application/vnd.google.colaboratory.intrinsic": {
              "type": "string"
            },
            "text/plain": [
              "'2.2.0'"
            ]
          },
          "metadata": {
            "tags": []
          },
          "execution_count": 1
        }
      ]
    },
    {
      "cell_type": "code",
      "metadata": {
        "id": "q3YtYHDFSWnO",
        "colab_type": "code",
        "colab": {
          "base_uri": "https://localhost:8080/",
          "height": 35
        },
        "outputId": "e47adade-d72c-4346-e2ee-7cebb43edb20"
      },
      "source": [
        "from tensorflow import keras\n",
        "keras.__version__"
      ],
      "execution_count": 2,
      "outputs": [
        {
          "output_type": "execute_result",
          "data": {
            "application/vnd.google.colaboratory.intrinsic": {
              "type": "string"
            },
            "text/plain": [
              "'2.3.0-tf'"
            ]
          },
          "metadata": {
            "tags": []
          },
          "execution_count": 2
        }
      ]
    },
    {
      "cell_type": "code",
      "metadata": {
        "id": "khhzbIuWSe9w",
        "colab_type": "code",
        "colab": {}
      },
      "source": [
        "fashion_mnist = keras.datasets.fashion_mnist"
      ],
      "execution_count": 3,
      "outputs": []
    },
    {
      "cell_type": "code",
      "metadata": {
        "id": "RoV8-3_jSnVV",
        "colab_type": "code",
        "colab": {
          "base_uri": "https://localhost:8080/",
          "height": 153
        },
        "outputId": "884d83bc-7f8a-4446-e13c-60aa01024aaa"
      },
      "source": [
        "(X_train_full, y_train_full), (X_test, y_test) = fashion_mnist.load_data()"
      ],
      "execution_count": 4,
      "outputs": [
        {
          "output_type": "stream",
          "text": [
            "Downloading data from https://storage.googleapis.com/tensorflow/tf-keras-datasets/train-labels-idx1-ubyte.gz\n",
            "32768/29515 [=================================] - 0s 0us/step\n",
            "Downloading data from https://storage.googleapis.com/tensorflow/tf-keras-datasets/train-images-idx3-ubyte.gz\n",
            "26427392/26421880 [==============================] - 0s 0us/step\n",
            "Downloading data from https://storage.googleapis.com/tensorflow/tf-keras-datasets/t10k-labels-idx1-ubyte.gz\n",
            "8192/5148 [===============================================] - 0s 0us/step\n",
            "Downloading data from https://storage.googleapis.com/tensorflow/tf-keras-datasets/t10k-images-idx3-ubyte.gz\n",
            "4423680/4422102 [==============================] - 0s 0us/step\n"
          ],
          "name": "stdout"
        }
      ]
    },
    {
      "cell_type": "code",
      "metadata": {
        "id": "MDyWKKsxS1qw",
        "colab_type": "code",
        "colab": {
          "base_uri": "https://localhost:8080/",
          "height": 34
        },
        "outputId": "f5b0189e-f7cb-4234-cc68-d4f9580e9f0c"
      },
      "source": [
        "X_train_full.shape"
      ],
      "execution_count": 5,
      "outputs": [
        {
          "output_type": "execute_result",
          "data": {
            "text/plain": [
              "(60000, 28, 28)"
            ]
          },
          "metadata": {
            "tags": []
          },
          "execution_count": 5
        }
      ]
    },
    {
      "cell_type": "code",
      "metadata": {
        "id": "gSduaSl7S6ZO",
        "colab_type": "code",
        "colab": {
          "base_uri": "https://localhost:8080/",
          "height": 34
        },
        "outputId": "3126bc4a-dbdd-4239-f74a-0f2b34d49c55"
      },
      "source": [
        "X_train_full.dtype"
      ],
      "execution_count": 6,
      "outputs": [
        {
          "output_type": "execute_result",
          "data": {
            "text/plain": [
              "dtype('uint8')"
            ]
          },
          "metadata": {
            "tags": []
          },
          "execution_count": 6
        }
      ]
    },
    {
      "cell_type": "code",
      "metadata": {
        "id": "V8AYde_5S8EW",
        "colab_type": "code",
        "colab": {
          "base_uri": "https://localhost:8080/",
          "height": 34
        },
        "outputId": "cfcd9b9c-ad10-4b41-b2b6-1c1ad2de54e9"
      },
      "source": [
        "X_test.shape"
      ],
      "execution_count": 7,
      "outputs": [
        {
          "output_type": "execute_result",
          "data": {
            "text/plain": [
              "(10000, 28, 28)"
            ]
          },
          "metadata": {
            "tags": []
          },
          "execution_count": 7
        }
      ]
    },
    {
      "cell_type": "code",
      "metadata": {
        "id": "wFrAWn-pS_S8",
        "colab_type": "code",
        "colab": {}
      },
      "source": [
        "X_train, X_valid = X_train_full[:55000] / 255.0 , X_train_full[55000:] / 255.0\n",
        "X_test = X_test / 255.0\n",
        "y_train, y_valid = y_train_full[:55000] , y_train_full[55000:]"
      ],
      "execution_count": 8,
      "outputs": []
    },
    {
      "cell_type": "code",
      "metadata": {
        "id": "S7QXIvMBUd-I",
        "colab_type": "code",
        "colab": {}
      },
      "source": [
        "class_names = [\"T-shirt/top\", \"Trouser\", \"Pullover\", \"Dress\", \"Coat\", \"Sandal\", \"Shirt\", \"Sneaker\", \"Bag\", \"Ankle boot\"]"
      ],
      "execution_count": 9,
      "outputs": []
    },
    {
      "cell_type": "code",
      "metadata": {
        "id": "_pYJweTtUfzy",
        "colab_type": "code",
        "colab": {
          "base_uri": "https://localhost:8080/",
          "height": 34
        },
        "outputId": "240dd08e-f788-48ec-b3c6-be9771f56c80"
      },
      "source": [
        "X_valid.shape"
      ],
      "execution_count": 10,
      "outputs": [
        {
          "output_type": "execute_result",
          "data": {
            "text/plain": [
              "(5000, 28, 28)"
            ]
          },
          "metadata": {
            "tags": []
          },
          "execution_count": 10
        }
      ]
    },
    {
      "cell_type": "code",
      "metadata": {
        "id": "qy7EisjMUlyY",
        "colab_type": "code",
        "colab": {
          "base_uri": "https://localhost:8080/",
          "height": 34
        },
        "outputId": "e826f3f9-3f77-48c1-d2cb-6678368c936a"
      },
      "source": [
        "X_train.shape"
      ],
      "execution_count": 11,
      "outputs": [
        {
          "output_type": "execute_result",
          "data": {
            "text/plain": [
              "(55000, 28, 28)"
            ]
          },
          "metadata": {
            "tags": []
          },
          "execution_count": 11
        }
      ]
    },
    {
      "cell_type": "code",
      "metadata": {
        "id": "TuhArivtUoZV",
        "colab_type": "code",
        "colab": {
          "base_uri": "https://localhost:8080/",
          "height": 35
        },
        "outputId": "d47fda67-641a-4da3-a503-0dcc03b9ab69"
      },
      "source": [
        "class_names[y_train[0]]"
      ],
      "execution_count": 13,
      "outputs": [
        {
          "output_type": "execute_result",
          "data": {
            "application/vnd.google.colaboratory.intrinsic": {
              "type": "string"
            },
            "text/plain": [
              "'Ankle boot'"
            ]
          },
          "metadata": {
            "tags": []
          },
          "execution_count": 13
        }
      ]
    },
    {
      "cell_type": "code",
      "metadata": {
        "id": "sksgEy2AUrns",
        "colab_type": "code",
        "colab": {}
      },
      "source": [
        "#Keras sequential api\n",
        "\n",
        "model = keras.models.Sequential()\n",
        "model.add(keras.layers.Flatten(input_shape = [28,28]))\n",
        "model.add(keras.layers.Dense(300, activation = \"relu\"))\n",
        "model.add(keras.layers.Dense(100, activation = \"relu\"))\n",
        "model.add(keras.layers.Dense(10, activation=\"softmax\"))\n",
        "\n",
        "\n",
        "#model = keras.models.Sequential([\n",
        "#    keras.layers.Flatten(input_shape=[28, 28]),\n",
        "#    keras.layers.Dense(300, activation=\"relu\"),\n",
        "#    keras.layers.Dense(100, activation=\"relu\"),\n",
        "#    keras.layers.Dense(10, activation=\"softmax\")\n",
        "#])"
      ],
      "execution_count": 15,
      "outputs": []
    },
    {
      "cell_type": "code",
      "metadata": {
        "id": "hfNgl59nWAzh",
        "colab_type": "code",
        "colab": {
          "base_uri": "https://localhost:8080/",
          "height": 289
        },
        "outputId": "715a23da-0a59-490c-f779-8deab2e66340"
      },
      "source": [
        "model.summary()"
      ],
      "execution_count": 17,
      "outputs": [
        {
          "output_type": "stream",
          "text": [
            "Model: \"sequential_1\"\n",
            "_________________________________________________________________\n",
            "Layer (type)                 Output Shape              Param #   \n",
            "=================================================================\n",
            "flatten_1 (Flatten)          (None, 784)               0         \n",
            "_________________________________________________________________\n",
            "dense_2 (Dense)              (None, 300)               235500    \n",
            "_________________________________________________________________\n",
            "dense_3 (Dense)              (None, 100)               30100     \n",
            "_________________________________________________________________\n",
            "dense_4 (Dense)              (None, 10)                1010      \n",
            "=================================================================\n",
            "Total params: 266,610\n",
            "Trainable params: 266,610\n",
            "Non-trainable params: 0\n",
            "_________________________________________________________________\n"
          ],
          "name": "stdout"
        }
      ]
    },
    {
      "cell_type": "code",
      "metadata": {
        "id": "4HABPbJYWwDx",
        "colab_type": "code",
        "colab": {}
      },
      "source": [
        "wt , b = model.layers[2].get_weights()"
      ],
      "execution_count": 19,
      "outputs": []
    },
    {
      "cell_type": "code",
      "metadata": {
        "id": "-W6fxkLMW8oe",
        "colab_type": "code",
        "colab": {
          "base_uri": "https://localhost:8080/",
          "height": 238
        },
        "outputId": "a0d2f911-1063-4219-e2ff-40230bbc079f"
      },
      "source": [
        "wt"
      ],
      "execution_count": 20,
      "outputs": [
        {
          "output_type": "execute_result",
          "data": {
            "text/plain": [
              "array([[ 0.01700003, -0.02347652, -0.08489469, ...,  0.03882796,\n",
              "        -0.03618193, -0.0064557 ],\n",
              "       [-0.11117538, -0.06168912,  0.01231866, ..., -0.08172333,\n",
              "         0.06499309,  0.02459835],\n",
              "       [-0.02625941, -0.06442194,  0.08024029, ..., -0.05360349,\n",
              "        -0.12192765, -0.01790635],\n",
              "       ...,\n",
              "       [-0.03895023, -0.11154559, -0.03680488, ..., -0.0738081 ,\n",
              "         0.00574561,  0.07631695],\n",
              "       [ 0.07745206, -0.04586834,  0.00052268, ...,  0.03938185,\n",
              "        -0.10342994,  0.04457463],\n",
              "       [ 0.04491069, -0.02832007,  0.08129112, ...,  0.05986244,\n",
              "        -0.02386561,  0.0411737 ]], dtype=float32)"
            ]
          },
          "metadata": {
            "tags": []
          },
          "execution_count": 20
        }
      ]
    },
    {
      "cell_type": "code",
      "metadata": {
        "id": "sytPFlk4W9kv",
        "colab_type": "code",
        "colab": {
          "base_uri": "https://localhost:8080/",
          "height": 136
        },
        "outputId": "4ea878ad-d2ca-4932-e5de-07980e256a28"
      },
      "source": [
        "b"
      ],
      "execution_count": 21,
      "outputs": [
        {
          "output_type": "execute_result",
          "data": {
            "text/plain": [
              "array([0., 0., 0., 0., 0., 0., 0., 0., 0., 0., 0., 0., 0., 0., 0., 0., 0.,\n",
              "       0., 0., 0., 0., 0., 0., 0., 0., 0., 0., 0., 0., 0., 0., 0., 0., 0.,\n",
              "       0., 0., 0., 0., 0., 0., 0., 0., 0., 0., 0., 0., 0., 0., 0., 0., 0.,\n",
              "       0., 0., 0., 0., 0., 0., 0., 0., 0., 0., 0., 0., 0., 0., 0., 0., 0.,\n",
              "       0., 0., 0., 0., 0., 0., 0., 0., 0., 0., 0., 0., 0., 0., 0., 0., 0.,\n",
              "       0., 0., 0., 0., 0., 0., 0., 0., 0., 0., 0., 0., 0., 0., 0.],\n",
              "      dtype=float32)"
            ]
          },
          "metadata": {
            "tags": []
          },
          "execution_count": 21
        }
      ]
    },
    {
      "cell_type": "code",
      "metadata": {
        "id": "Iyk2fsszWEzr",
        "colab_type": "code",
        "colab": {}
      },
      "source": [
        "y_train = keras.utils.to_categorical(y_train)\n",
        "y_valid = keras.utils.to_categorical(y_valid)\n",
        "y_test = keras.utils.to_categorical(y_test)"
      ],
      "execution_count": 18,
      "outputs": []
    },
    {
      "cell_type": "code",
      "metadata": {
        "id": "aSTpYH1xWkeD",
        "colab_type": "code",
        "colab": {}
      },
      "source": [
        "model.compile(optimizer='Adam', loss = \"categorical_crossentropy\", metrics = ['accuracy'])"
      ],
      "execution_count": 22,
      "outputs": []
    },
    {
      "cell_type": "code",
      "metadata": {
        "id": "RwoE5t6LXWLf",
        "colab_type": "code",
        "colab": {
          "base_uri": "https://localhost:8080/",
          "height": 697
        },
        "outputId": "cf4ee32e-a54d-409c-fbda-f1c06e9dc7ed"
      },
      "source": [
        "history = model.fit(X_train, y_train, validation_data=(X_valid, y_valid), batch_size = 128, epochs = 20, use_multiprocessing= True )"
      ],
      "execution_count": 24,
      "outputs": [
        {
          "output_type": "stream",
          "text": [
            "Epoch 1/20\n",
            "430/430 [==============================] - 3s 6ms/step - loss: 0.5244 - accuracy: 0.8154 - val_loss: 0.4087 - val_accuracy: 0.8490\n",
            "Epoch 2/20\n",
            "430/430 [==============================] - 2s 6ms/step - loss: 0.3695 - accuracy: 0.8672 - val_loss: 0.3876 - val_accuracy: 0.8632\n",
            "Epoch 3/20\n",
            "430/430 [==============================] - 2s 6ms/step - loss: 0.3319 - accuracy: 0.8793 - val_loss: 0.3409 - val_accuracy: 0.8756\n",
            "Epoch 4/20\n",
            "430/430 [==============================] - 2s 6ms/step - loss: 0.3050 - accuracy: 0.8888 - val_loss: 0.3433 - val_accuracy: 0.8790\n",
            "Epoch 5/20\n",
            "430/430 [==============================] - 2s 6ms/step - loss: 0.2901 - accuracy: 0.8929 - val_loss: 0.3248 - val_accuracy: 0.8794\n",
            "Epoch 6/20\n",
            "430/430 [==============================] - 3s 6ms/step - loss: 0.2740 - accuracy: 0.9000 - val_loss: 0.3314 - val_accuracy: 0.8832\n",
            "Epoch 7/20\n",
            "430/430 [==============================] - 3s 6ms/step - loss: 0.2591 - accuracy: 0.9039 - val_loss: 0.3097 - val_accuracy: 0.8890\n",
            "Epoch 8/20\n",
            "430/430 [==============================] - 3s 6ms/step - loss: 0.2466 - accuracy: 0.9085 - val_loss: 0.3451 - val_accuracy: 0.8798\n",
            "Epoch 9/20\n",
            "430/430 [==============================] - 3s 6ms/step - loss: 0.2348 - accuracy: 0.9117 - val_loss: 0.3391 - val_accuracy: 0.8866\n",
            "Epoch 10/20\n",
            "430/430 [==============================] - 3s 6ms/step - loss: 0.2253 - accuracy: 0.9144 - val_loss: 0.3587 - val_accuracy: 0.8754\n",
            "Epoch 11/20\n",
            "430/430 [==============================] - 2s 6ms/step - loss: 0.2180 - accuracy: 0.9177 - val_loss: 0.3237 - val_accuracy: 0.8836\n",
            "Epoch 12/20\n",
            "430/430 [==============================] - 2s 6ms/step - loss: 0.2081 - accuracy: 0.9218 - val_loss: 0.3496 - val_accuracy: 0.8792\n",
            "Epoch 13/20\n",
            "430/430 [==============================] - 3s 6ms/step - loss: 0.2016 - accuracy: 0.9239 - val_loss: 0.3051 - val_accuracy: 0.8922\n",
            "Epoch 14/20\n",
            "430/430 [==============================] - 3s 6ms/step - loss: 0.1937 - accuracy: 0.9273 - val_loss: 0.3292 - val_accuracy: 0.8870\n",
            "Epoch 15/20\n",
            "430/430 [==============================] - 3s 6ms/step - loss: 0.1874 - accuracy: 0.9298 - val_loss: 0.3302 - val_accuracy: 0.8888\n",
            "Epoch 16/20\n",
            "430/430 [==============================] - 2s 6ms/step - loss: 0.1805 - accuracy: 0.9313 - val_loss: 0.3423 - val_accuracy: 0.8946\n",
            "Epoch 17/20\n",
            "430/430 [==============================] - 2s 6ms/step - loss: 0.1766 - accuracy: 0.9335 - val_loss: 0.3296 - val_accuracy: 0.8920\n",
            "Epoch 18/20\n",
            "430/430 [==============================] - 2s 6ms/step - loss: 0.1702 - accuracy: 0.9356 - val_loss: 0.3376 - val_accuracy: 0.8916\n",
            "Epoch 19/20\n",
            "430/430 [==============================] - 2s 6ms/step - loss: 0.1622 - accuracy: 0.9390 - val_loss: 0.3350 - val_accuracy: 0.8962\n",
            "Epoch 20/20\n",
            "430/430 [==============================] - 3s 6ms/step - loss: 0.1560 - accuracy: 0.9411 - val_loss: 0.3278 - val_accuracy: 0.8946\n"
          ],
          "name": "stdout"
        }
      ]
    },
    {
      "cell_type": "code",
      "metadata": {
        "id": "8PLTX2EOYCTW",
        "colab_type": "code",
        "colab": {
          "base_uri": "https://localhost:8080/",
          "height": 269
        },
        "outputId": "d475c2e7-7cda-4196-febb-fcffd382c0dd"
      },
      "source": [
        "import matplotlib.pyplot as plt\n",
        "plt.plot(history.history['accuracy'], label = \"accuracy\")\n",
        "plt.plot(history.history['val_accuracy'], label = \"val_accuracy\")\n",
        "plt.ylim(0,1)\n",
        "plt.legend()\n",
        "plt.show()"
      ],
      "execution_count": 28,
      "outputs": [
        {
          "output_type": "display_data",
          "data": {
            "image/png": "[encoded data removed]",
            "text/plain": [
              "<Figure size 432x288 with 1 Axes>"
            ]
          },
          "metadata": {
            "tags": [],
            "needs_background": "light"
          }
        }
      ]
    },
    {
      "cell_type": "code",
      "metadata": {
        "id": "I-KWXpE7YqZC",
        "colab_type": "code",
        "colab": {
          "base_uri": "https://localhost:8080/",
          "height": 51
        },
        "outputId": "bd9e5108-171b-44a3-876d-8a0eee71cd4e"
      },
      "source": [
        "model.evaluate(X_test, y_test)"
      ],
      "execution_count": 29,
      "outputs": [
        {
          "output_type": "stream",
          "text": [
            "313/313 [==============================] - 0s 2ms/step - loss: 0.3458 - accuracy: 0.8933\n"
          ],
          "name": "stdout"
        },
        {
          "output_type": "execute_result",
          "data": {
            "text/plain": [
              "[0.34581297636032104, 0.8932999968528748]"
            ]
          },
          "metadata": {
            "tags": []
          },
          "execution_count": 29
        }
      ]
    },
    {
      "cell_type": "code",
      "metadata": {
        "id": "By-SsemYZtD_",
        "colab_type": "code",
        "colab": {
          "base_uri": "https://localhost:8080/",
          "height": 170
        },
        "outputId": "f8558c79-a3a1-4148-a0e1-7ceaaa146ae5"
      },
      "source": [
        "y_proba = model.predict(X_test[:3])\n",
        "y_proba"
      ],
      "execution_count": 35,
      "outputs": [
        {
          "output_type": "execute_result",
          "data": {
            "text/plain": [
              "array([[6.0854273e-11, 1.0255892e-10, 1.0021861e-08, 3.5138156e-11,\n",
              "        3.8672346e-10, 3.2843654e-06, 4.1210534e-08, 9.1369339e-04,\n",
              "        4.5782293e-12, 9.9908292e-01],\n",
              "       [8.9074054e-04, 2.1332903e-10, 9.9791855e-01, 5.3372862e-09,\n",
              "        1.0973985e-03, 6.8688811e-15, 9.3214876e-05, 7.3721059e-14,\n",
              "        9.0527591e-10, 9.6270119e-12],\n",
              "       [5.5562346e-14, 1.0000000e+00, 8.1367838e-20, 4.2313749e-13,\n",
              "        1.0946613e-18, 2.0374279e-24, 4.2758520e-16, 1.1216733e-24,\n",
              "        6.3956124e-18, 9.7994520e-21]], dtype=float32)"
            ]
          },
          "metadata": {
            "tags": []
          },
          "execution_count": 35
        }
      ]
    },
    {
      "cell_type": "code",
      "metadata": {
        "id": "jNFDMYclaEym",
        "colab_type": "code",
        "colab": {
          "base_uri": "https://localhost:8080/",
          "height": 34
        },
        "outputId": "c32522a1-d96c-48b4-c266-1fa1b2ed742f"
      },
      "source": [
        "import numpy as np\n",
        "idx = np.argmax(y_proba, axis = 1).astype(np.int16)\n",
        "ans = [class_names[i] for i in idx]\n",
        "print(ans)"
      ],
      "execution_count": 56,
      "outputs": [
        {
          "output_type": "stream",
          "text": [
            "['Ankle boot', 'Pullover', 'Trouser']\n"
          ],
          "name": "stdout"
        }
      ]
    },
    {
      "cell_type": "code",
      "metadata": {
        "id": "1ZIJyRqObzhY",
        "colab_type": "code",
        "colab": {}
      },
      "source": [
        "siren = keras.models.Sequential([keras.layers.Flatten(input_shape=[28, 28]),\n",
        "                                 keras.layers.Dense(300, activation=tf.math.sin, kernel_initializer= \"he_uniform\"),\n",
        "                                 keras.layers.Dense(100, activation=tf.math.sin, kernel_initializer= \"he_uniform\"),\n",
        "                                 keras.layers.Dense(10, activation=\"softmax\")])"
      ],
      "execution_count": 57,
      "outputs": []
    },
    {
      "cell_type": "code",
      "metadata": {
        "id": "qqlH3lqlfozd",
        "colab_type": "code",
        "colab": {
          "base_uri": "https://localhost:8080/",
          "height": 289
        },
        "outputId": "283c39da-0a00-4eb5-c1ae-58d0ec928a88"
      },
      "source": [
        "siren.summary()"
      ],
      "execution_count": 59,
      "outputs": [
        {
          "output_type": "stream",
          "text": [
            "Model: \"sequential_2\"\n",
            "_________________________________________________________________\n",
            "Layer (type)                 Output Shape              Param #   \n",
            "=================================================================\n",
            "flatten_2 (Flatten)          (None, 784)               0         \n",
            "_________________________________________________________________\n",
            "dense_5 (Dense)              (None, 300)               235500    \n",
            "_________________________________________________________________\n",
            "dense_6 (Dense)              (None, 100)               30100     \n",
            "_________________________________________________________________\n",
            "dense_7 (Dense)              (None, 10)                1010      \n",
            "=================================================================\n",
            "Total params: 266,610\n",
            "Trainable params: 266,610\n",
            "Non-trainable params: 0\n",
            "_________________________________________________________________\n"
          ],
          "name": "stdout"
        }
      ]
    },
    {
      "cell_type": "code",
      "metadata": {
        "id": "cZD2PyKrfgKS",
        "colab_type": "code",
        "colab": {}
      },
      "source": [
        "siren.compile(optimizer='Adam', loss = \"categorical_crossentropy\", metrics = ['accuracy'])"
      ],
      "execution_count": 60,
      "outputs": []
    },
    {
      "cell_type": "code",
      "metadata": {
        "id": "SDTLiWxDfl2a",
        "colab_type": "code",
        "colab": {
          "base_uri": "https://localhost:8080/",
          "height": 697
        },
        "outputId": "ab331e6f-2052-432f-ca9a-548155a74da9"
      },
      "source": [
        "siren_history = siren.fit(X_train, y_train, validation_data=(X_valid, y_valid), batch_size = 128, epochs = 20, use_multiprocessing= True )"
      ],
      "execution_count": 61,
      "outputs": [
        {
          "output_type": "stream",
          "text": [
            "Epoch 1/20\n",
            "430/430 [==============================] - 3s 6ms/step - loss: 0.4811 - accuracy: 0.8283 - val_loss: 0.3841 - val_accuracy: 0.8604\n",
            "Epoch 2/20\n",
            "430/430 [==============================] - 2s 6ms/step - loss: 0.3636 - accuracy: 0.8687 - val_loss: 0.3525 - val_accuracy: 0.8744\n",
            "Epoch 3/20\n",
            "430/430 [==============================] - 2s 6ms/step - loss: 0.3216 - accuracy: 0.8820 - val_loss: 0.3401 - val_accuracy: 0.8714\n",
            "Epoch 4/20\n",
            "430/430 [==============================] - 2s 6ms/step - loss: 0.2936 - accuracy: 0.8916 - val_loss: 0.3396 - val_accuracy: 0.8730\n",
            "Epoch 5/20\n",
            "430/430 [==============================] - 2s 6ms/step - loss: 0.2784 - accuracy: 0.8966 - val_loss: 0.3242 - val_accuracy: 0.8842\n",
            "Epoch 6/20\n",
            "430/430 [==============================] - 2s 6ms/step - loss: 0.2629 - accuracy: 0.9036 - val_loss: 0.3401 - val_accuracy: 0.8746\n",
            "Epoch 7/20\n",
            "430/430 [==============================] - 2s 6ms/step - loss: 0.2493 - accuracy: 0.9073 - val_loss: 0.3193 - val_accuracy: 0.8840\n",
            "Epoch 8/20\n",
            "430/430 [==============================] - 2s 6ms/step - loss: 0.2344 - accuracy: 0.9138 - val_loss: 0.3261 - val_accuracy: 0.8866\n",
            "Epoch 9/20\n",
            "430/430 [==============================] - 2s 6ms/step - loss: 0.2300 - accuracy: 0.9150 - val_loss: 0.3329 - val_accuracy: 0.8824\n",
            "Epoch 10/20\n",
            "430/430 [==============================] - 2s 6ms/step - loss: 0.2197 - accuracy: 0.9184 - val_loss: 0.3259 - val_accuracy: 0.8872\n",
            "Epoch 11/20\n",
            "430/430 [==============================] - 2s 6ms/step - loss: 0.2091 - accuracy: 0.9234 - val_loss: 0.3355 - val_accuracy: 0.8836\n",
            "Epoch 12/20\n",
            "430/430 [==============================] - 2s 6ms/step - loss: 0.1975 - accuracy: 0.9290 - val_loss: 0.3274 - val_accuracy: 0.8848\n",
            "Epoch 13/20\n",
            "430/430 [==============================] - 2s 6ms/step - loss: 0.1910 - accuracy: 0.9300 - val_loss: 0.3299 - val_accuracy: 0.8834\n",
            "Epoch 14/20\n",
            "430/430 [==============================] - 3s 6ms/step - loss: 0.1826 - accuracy: 0.9342 - val_loss: 0.3317 - val_accuracy: 0.8880\n",
            "Epoch 15/20\n",
            "430/430 [==============================] - 2s 6ms/step - loss: 0.1737 - accuracy: 0.9368 - val_loss: 0.3415 - val_accuracy: 0.8890\n",
            "Epoch 16/20\n",
            "430/430 [==============================] - 2s 6ms/step - loss: 0.1686 - accuracy: 0.9379 - val_loss: 0.3413 - val_accuracy: 0.8882\n",
            "Epoch 17/20\n",
            "430/430 [==============================] - 2s 6ms/step - loss: 0.1686 - accuracy: 0.9391 - val_loss: 0.3426 - val_accuracy: 0.8876\n",
            "Epoch 18/20\n",
            "430/430 [==============================] - 3s 6ms/step - loss: 0.1638 - accuracy: 0.9405 - val_loss: 0.3752 - val_accuracy: 0.8798\n",
            "Epoch 19/20\n",
            "430/430 [==============================] - 3s 6ms/step - loss: 0.1568 - accuracy: 0.9431 - val_loss: 0.3407 - val_accuracy: 0.8932\n",
            "Epoch 20/20\n",
            "430/430 [==============================] - 3s 6ms/step - loss: 0.1497 - accuracy: 0.9458 - val_loss: 0.3537 - val_accuracy: 0.8796\n"
          ],
          "name": "stdout"
        }
      ]
    },
    {
      "cell_type": "code",
      "metadata": {
        "id": "auB7m-3bf1ms",
        "colab_type": "code",
        "colab": {
          "base_uri": "https://localhost:8080/",
          "height": 269
        },
        "outputId": "766fde19-185d-4bf3-c01b-53cc314ccea7"
      },
      "source": [
        "plt.plot(siren_history.history['accuracy'], label = \"accuracy\")\n",
        "plt.plot(siren_history.history['val_accuracy'], label = \"val_accuracy\")\n",
        "plt.ylim(0,1)\n",
        "plt.legend()\n",
        "plt.show()"
      ],
      "execution_count": 62,
      "outputs": [
        {
          "output_type": "display_data",
          "data": {
            "image/png": "[encoded data removed]",
            "text/plain": [
              "<Figure size 432x288 with 1 Axes>"
            ]
          },
          "metadata": {
            "tags": [],
            "needs_background": "light"
          }
        }
      ]
    },
    {
      "cell_type": "code",
      "metadata": {
        "id": "ZJCO5AC-gSpK",
        "colab_type": "code",
        "colab": {
          "base_uri": "https://localhost:8080/",
          "height": 51
        },
        "outputId": "52bbb002-788a-4626-87fb-3bf63a8bd934"
      },
      "source": [
        "siren.evaluate(X_test, y_test)"
      ],
      "execution_count": 64,
      "outputs": [
        {
          "output_type": "stream",
          "text": [
            "313/313 [==============================] - 0s 2ms/step - loss: 0.3710 - accuracy: 0.8759\n"
          ],
          "name": "stdout"
        },
        {
          "output_type": "execute_result",
          "data": {
            "text/plain": [
              "[0.37104034423828125, 0.8758999705314636]"
            ]
          },
          "metadata": {
            "tags": []
          },
          "execution_count": 64
        }
      ]
    },
    {
      "cell_type": "code",
      "metadata": {
        "id": "5L72HY1HgV8L",
        "colab_type": "code",
        "colab": {}
      },
      "source": [
        ""
      ],
      "execution_count": null,
      "outputs": []
    }
  ]
}