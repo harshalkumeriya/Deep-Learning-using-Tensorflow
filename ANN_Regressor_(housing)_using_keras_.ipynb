{
  "nbformat": 4,
  "nbformat_minor": 0,
  "metadata": {
    "colab": {
      "name": "ANN Regressor (housing) using keras .ipynb",
      "provenance": [],
      "include_colab_link": true
    },
    "kernelspec": {
      "name": "python3",
      "display_name": "Python 3"
    }
  },
  "cells": [
    {
      "cell_type": "markdown",
      "metadata": {
        "id": "view-in-github",
        "colab_type": "text"
      },
      "source": [
        "<a href=\"https://colab.research.google.com/github/harshalkumeriya/Deep-Learning-using-Tensorflow/blob/master/ANN_Regressor_(housing)_using_keras_.ipynb\" target=\"_parent\"><img src=\"https://colab.research.google.com/assets/colab-badge.svg\" alt=\"Open In Colab\"/></a>"
      ]
    },
    {
      "cell_type": "code",
      "metadata": {
        "id": "yTgySmHROoSE",
        "colab_type": "code",
        "colab": {}
      },
      "source": [
        "import tensorflow as tf\n",
        "import numpy as np\n",
        "import matplotlib.pyplot as plt\n",
        "from tensorflow import keras\n",
        "from sklearn.preprocessing import StandardScaler\n",
        "from sklearn.model_selection import train_test_split\n",
        "from sklearn.datasets import fetch_california_housing"
      ],
      "execution_count": 1,
      "outputs": []
    },
    {
      "cell_type": "code",
      "metadata": {
        "id": "2b6p90Imi3nR",
        "colab_type": "code",
        "colab": {}
      },
      "source": [
        "df = fetch_california_housing()\n"
      ],
      "execution_count": 2,
      "outputs": []
    },
    {
      "cell_type": "code",
      "metadata": {
        "id": "AHL_6z7XjAn3",
        "colab_type": "code",
        "colab": {}
      },
      "source": [
        "X_train_full, X_test, y_train_full, y_test = train_test_split(df.data, df.target)\n",
        "X_train, X_valid, y_train, y_valid = train_test_split(X_train_full, y_train_full)"
      ],
      "execution_count": 3,
      "outputs": []
    },
    {
      "cell_type": "code",
      "metadata": {
        "id": "c0Bz5XelkPLz",
        "colab_type": "code",
        "colab": {
          "base_uri": "https://localhost:8080/",
          "height": 35
        },
        "outputId": "ad2c8bdc-1d64-45da-e4e4-2adf1f826ccd"
      },
      "source": [
        "X_train_full.shape"
      ],
      "execution_count": 4,
      "outputs": [
        {
          "output_type": "execute_result",
          "data": {
            "text/plain": [
              "(15480, 8)"
            ]
          },
          "metadata": {
            "tags": []
          },
          "execution_count": 4
        }
      ]
    },
    {
      "cell_type": "code",
      "metadata": {
        "id": "HVvw1Jp7jkGj",
        "colab_type": "code",
        "colab": {}
      },
      "source": [
        "scaler = StandardScaler()\n",
        "X_train = scaler.fit_transform(X_train)\n",
        "X_valid = scaler.transform(X_valid)\n",
        "X_test = scaler.transform(X_test)"
      ],
      "execution_count": 5,
      "outputs": []
    },
    {
      "cell_type": "code",
      "metadata": {
        "id": "AkovpcqDqp31",
        "colab_type": "code",
        "colab": {}
      },
      "source": [
        "# Using Sequential API"
      ],
      "execution_count": 6,
      "outputs": []
    },
    {
      "cell_type": "code",
      "metadata": {
        "id": "kBOGp2Aej8Ge",
        "colab_type": "code",
        "colab": {}
      },
      "source": [
        "model = keras.models.Sequential([keras.layers.Dense(30, activation = \"relu\", input_shape = X_train.shape[1:]), keras.layers.Dense(1)])\n",
        "model.compile(loss = \"mean_squared_error\", optimizer = \"sgd\")"
      ],
      "execution_count": 7,
      "outputs": []
    },
    {
      "cell_type": "code",
      "metadata": {
        "id": "kv17USL6sIYW",
        "colab_type": "code",
        "colab": {}
      },
      "source": [
        "# ModelCheckpoint callback saves checkpoints of your model at regular intervals during training, \n",
        "# by default at the \"end of each epoch\"\n",
        "# if save_best_only=True then it will only save your model,\n",
        "# when its performance on the validation set is the best so far while training.\n",
        "check_point = keras.callbacks.ModelCheckpoint(\"my_model.h5\", save_best_only=True)\n",
        "\n",
        "# EarlyStopping callback will interrupt training when it measures no progress\n",
        "# on the validation set for a number of epochs (defined by the patience argument)\n",
        "# and it will optionally roll back to the best model\n",
        "early_stopping = keras.callbacks.EarlyStopping(patience = 5, restore_best_weights=True)"
      ],
      "execution_count": 8,
      "outputs": []
    },
    {
      "cell_type": "code",
      "metadata": {
        "id": "jeu0o_75sEnC",
        "colab_type": "code",
        "colab": {
          "base_uri": "https://localhost:8080/",
          "height": 1000
        },
        "outputId": "c13b030c-d722-435e-d134-1ef1db45f83c"
      },
      "source": [
        "history = model.fit(X_train, y_train, \n",
        "                    validation_data = (X_valid, y_valid), \n",
        "                    callbacks = [check_point, early_stopping], \n",
        "                    epochs = 100, \n",
        "                    use_multiprocessing = True)"
      ],
      "execution_count": 9,
      "outputs": [
        {
          "output_type": "stream",
          "text": [
            "Epoch 1/100\n",
            "363/363 [==============================] - 1s 2ms/step - loss: 0.8162 - val_loss: 0.7236\n",
            "Epoch 2/100\n",
            "363/363 [==============================] - 1s 2ms/step - loss: 0.6478 - val_loss: 4.8902\n",
            "Epoch 3/100\n",
            "363/363 [==============================] - 1s 1ms/step - loss: 1.5359 - val_loss: 0.4534\n",
            "Epoch 4/100\n",
            "363/363 [==============================] - 1s 2ms/step - loss: 0.9796 - val_loss: 2.2657\n",
            "Epoch 5/100\n",
            "363/363 [==============================] - 1s 2ms/step - loss: 0.5740 - val_loss: 35.9715\n",
            "Epoch 6/100\n",
            "363/363 [==============================] - 1s 2ms/step - loss: 0.4614 - val_loss: 0.5183\n",
            "Epoch 7/100\n",
            "363/363 [==============================] - 1s 2ms/step - loss: 0.4089 - val_loss: 0.3919\n",
            "Epoch 8/100\n",
            "363/363 [==============================] - 1s 1ms/step - loss: 0.3812 - val_loss: 0.3870\n",
            "Epoch 9/100\n",
            "363/363 [==============================] - 1s 2ms/step - loss: 0.3751 - val_loss: 0.3794\n",
            "Epoch 10/100\n",
            "363/363 [==============================] - 1s 1ms/step - loss: 0.3731 - val_loss: 0.3855\n",
            "Epoch 11/100\n",
            "363/363 [==============================] - 1s 2ms/step - loss: 0.3699 - val_loss: 0.3777\n",
            "Epoch 12/100\n",
            "363/363 [==============================] - 1s 1ms/step - loss: 0.3698 - val_loss: 0.3820\n",
            "Epoch 13/100\n",
            "363/363 [==============================] - 1s 2ms/step - loss: 0.3638 - val_loss: 0.3736\n",
            "Epoch 14/100\n",
            "363/363 [==============================] - 1s 1ms/step - loss: 0.3648 - val_loss: 0.3715\n",
            "Epoch 15/100\n",
            "363/363 [==============================] - 1s 2ms/step - loss: 0.3726 - val_loss: 0.3781\n",
            "Epoch 16/100\n",
            "363/363 [==============================] - 1s 1ms/step - loss: 0.3674 - val_loss: 0.3776\n",
            "Epoch 17/100\n",
            "363/363 [==============================] - 1s 2ms/step - loss: 0.3616 - val_loss: 0.3897\n",
            "Epoch 18/100\n",
            "363/363 [==============================] - 1s 2ms/step - loss: 0.3604 - val_loss: 0.3715\n",
            "Epoch 19/100\n",
            "363/363 [==============================] - 1s 2ms/step - loss: 0.3585 - val_loss: 0.3655\n",
            "Epoch 20/100\n",
            "363/363 [==============================] - 1s 2ms/step - loss: 0.3592 - val_loss: 0.3721\n",
            "Epoch 21/100\n",
            "363/363 [==============================] - 1s 2ms/step - loss: 0.3539 - val_loss: 0.3635\n",
            "Epoch 22/100\n",
            "363/363 [==============================] - 1s 2ms/step - loss: 0.3525 - val_loss: 0.3620\n",
            "Epoch 23/100\n",
            "363/363 [==============================] - 1s 2ms/step - loss: 0.3476 - val_loss: 0.3612\n",
            "Epoch 24/100\n",
            "363/363 [==============================] - 1s 2ms/step - loss: 0.3454 - val_loss: 0.3770\n",
            "Epoch 25/100\n",
            "363/363 [==============================] - 1s 2ms/step - loss: 0.3418 - val_loss: 0.3584\n",
            "Epoch 26/100\n",
            "363/363 [==============================] - 1s 1ms/step - loss: 0.3417 - val_loss: 0.3543\n",
            "Epoch 27/100\n",
            "363/363 [==============================] - 1s 2ms/step - loss: 0.3376 - val_loss: 0.3514\n",
            "Epoch 28/100\n",
            "363/363 [==============================] - 1s 1ms/step - loss: 0.3775 - val_loss: 0.4598\n",
            "Epoch 29/100\n",
            "363/363 [==============================] - 1s 2ms/step - loss: 0.3894 - val_loss: 0.3935\n",
            "Epoch 30/100\n",
            "363/363 [==============================] - 1s 1ms/step - loss: 0.3673 - val_loss: 0.3780\n",
            "Epoch 31/100\n",
            "363/363 [==============================] - 1s 2ms/step - loss: 0.3535 - val_loss: 0.3656\n",
            "Epoch 32/100\n",
            "363/363 [==============================] - 1s 2ms/step - loss: 0.3493 - val_loss: 0.3646\n"
          ],
          "name": "stdout"
        }
      ]
    },
    {
      "cell_type": "code",
      "metadata": {
        "id": "HB6dr48clPCq",
        "colab_type": "code",
        "colab": {
          "base_uri": "https://localhost:8080/",
          "height": 374
        },
        "outputId": "2fb709b8-5891-424f-b5ae-45ff710b0bc6"
      },
      "source": [
        "plt.figure(figsize=(10,6))\n",
        "plt.plot(history.history['loss'], label = \"training\")\n",
        "plt.plot(history.history['val_loss'], label = \"validation\")\n",
        "plt.legend()\n",
        "plt.show()"
      ],
      "execution_count": 10,
      "outputs": [
        {
          "output_type": "display_data",
          "data": {
            "image/png": "[encoded data removed]",
            "text/plain": [
              "<Figure size 720x432 with 1 Axes>"
            ]
          },
          "metadata": {
            "tags": [],
            "needs_background": "light"
          }
        }
      ]
    },
    {
      "cell_type": "code",
      "metadata": {
        "id": "3z75NBOdl0vW",
        "colab_type": "code",
        "colab": {
          "base_uri": "https://localhost:8080/",
          "height": 52
        },
        "outputId": "5978ae53-f7ca-4a96-ad86-ef86861cded8"
      },
      "source": [
        "model.evaluate(X_test, y_test)"
      ],
      "execution_count": 11,
      "outputs": [
        {
          "output_type": "stream",
          "text": [
            "162/162 [==============================] - 0s 982us/step - loss: 0.3457\n"
          ],
          "name": "stdout"
        },
        {
          "output_type": "execute_result",
          "data": {
            "text/plain": [
              "0.3457038104534149"
            ]
          },
          "metadata": {
            "tags": []
          },
          "execution_count": 11
        }
      ]
    },
    {
      "cell_type": "code",
      "metadata": {
        "id": "lrxMq-nPnfzU",
        "colab_type": "code",
        "colab": {}
      },
      "source": [
        "model.save(\"my_model.h5\")"
      ],
      "execution_count": 12,
      "outputs": []
    },
    {
      "cell_type": "code",
      "metadata": {
        "id": "BC9m7Ez6vIfi",
        "colab_type": "code",
        "colab": {}
      },
      "source": [
        "X_new = X_test[:3]"
      ],
      "execution_count": 13,
      "outputs": []
    },
    {
      "cell_type": "code",
      "metadata": {
        "id": "EeIpy2o4u9FQ",
        "colab_type": "code",
        "colab": {
          "base_uri": "https://localhost:8080/",
          "height": 70
        },
        "outputId": "3a9daf78-744b-4891-9012-4f0c1133207f"
      },
      "source": [
        "trained_model = keras.models.load_model(\"my_model.h5\")\n",
        "trained_model.predict(X_new)"
      ],
      "execution_count": 14,
      "outputs": [
        {
          "output_type": "execute_result",
          "data": {
            "text/plain": [
              "array([[1.6076193],\n",
              "       [2.101229 ],\n",
              "       [1.6234443]], dtype=float32)"
            ]
          },
          "metadata": {
            "tags": []
          },
          "execution_count": 14
        }
      ]
    },
    {
      "cell_type": "code",
      "metadata": {
        "id": "RmFMYbETvRV8",
        "colab_type": "code",
        "colab": {
          "base_uri": "https://localhost:8080/",
          "height": 35
        },
        "outputId": "b22755e9-9ed5-4b4d-84b6-ec8f6c35ce22"
      },
      "source": [
        "y_test[:3]"
      ],
      "execution_count": 15,
      "outputs": [
        {
          "output_type": "execute_result",
          "data": {
            "text/plain": [
              "array([0.946, 1.979, 1.15 ])"
            ]
          },
          "metadata": {
            "tags": []
          },
          "execution_count": 15
        }
      ]
    },
    {
      "cell_type": "code",
      "metadata": {
        "id": "fQJrf5R8vTvl",
        "colab_type": "code",
        "colab": {}
      },
      "source": [
        ""
      ],
      "execution_count": 15,
      "outputs": []
    }
  ]
}