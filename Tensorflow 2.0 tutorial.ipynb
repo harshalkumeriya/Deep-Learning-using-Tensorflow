{
 "cells": [
  {
   "cell_type": "code",
   "execution_count": 1,
   "metadata": {},
   "outputs": [],
   "source": [
    "import tensorflow as tf"
   ]
  },
  {
   "cell_type": "code",
   "execution_count": 2,
   "metadata": {},
   "outputs": [
    {
     "name": "stdout",
     "output_type": "stream",
     "text": [
      "tensorflow version :2.0.0\n"
     ]
    }
   ],
   "source": [
    "print(\"tensorflow version :{}\".format(tf.__version__))"
   ]
  },
  {
   "cell_type": "code",
   "execution_count": 3,
   "metadata": {},
   "outputs": [],
   "source": [
    "import numpy as np\n",
    "np.set_printoptions(precision=3)"
   ]
  },
  {
   "cell_type": "markdown",
   "metadata": {},
   "source": [
    "# 1.Creating tensors in Tensorflow"
   ]
  },
  {
   "cell_type": "code",
   "execution_count": 4,
   "metadata": {},
   "outputs": [],
   "source": [
    "a = np.arange(1,6)\n",
    "a = a.astype(np.float64)\n",
    "\n",
    "b = np.linspace(1,10,10).astype(np.int32)"
   ]
  },
  {
   "cell_type": "code",
   "execution_count": 5,
   "metadata": {},
   "outputs": [
    {
     "name": "stdout",
     "output_type": "stream",
     "text": [
      "[1. 2. 3. 4. 5.] float64\n"
     ]
    }
   ],
   "source": [
    "print(a, a.dtype)"
   ]
  },
  {
   "cell_type": "code",
   "execution_count": 6,
   "metadata": {},
   "outputs": [
    {
     "name": "stdout",
     "output_type": "stream",
     "text": [
      "[ 1  2  3  4  5  6  7  8  9 10] int32\n"
     ]
    }
   ],
   "source": [
    "print(b, b.dtype)"
   ]
  },
  {
   "cell_type": "markdown",
   "metadata": {},
   "source": [
    "## 1.1 converting from array to tensor"
   ]
  },
  {
   "cell_type": "code",
   "execution_count": 7,
   "metadata": {},
   "outputs": [],
   "source": [
    "t_a = tf.convert_to_tensor(a)\n",
    "t_b = tf.convert_to_tensor(b)"
   ]
  },
  {
   "cell_type": "code",
   "execution_count": 8,
   "metadata": {},
   "outputs": [
    {
     "name": "stdout",
     "output_type": "stream",
     "text": [
      "tf.Tensor([1. 2. 3. 4. 5.], shape=(5,), dtype=float64)\n"
     ]
    }
   ],
   "source": [
    "print(t_a)"
   ]
  },
  {
   "cell_type": "code",
   "execution_count": 9,
   "metadata": {},
   "outputs": [
    {
     "name": "stdout",
     "output_type": "stream",
     "text": [
      "tf.Tensor([ 1  2  3  4  5  6  7  8  9 10], shape=(10,), dtype=int32)\n"
     ]
    }
   ],
   "source": [
    "print(t_b)"
   ]
  },
  {
   "cell_type": "markdown",
   "metadata": {},
   "source": [
    "## 1.2 Built-in function "
   ]
  },
  {
   "cell_type": "code",
   "execution_count": 10,
   "metadata": {},
   "outputs": [
    {
     "name": "stdout",
     "output_type": "stream",
     "text": [
      "tf.Tensor(\n",
      "[[1. 1. 1.]\n",
      " [1. 1. 1.]], shape=(2, 3), dtype=float32)\n"
     ]
    }
   ],
   "source": [
    "t_ones = tf.ones((2,3))\n",
    "print(t_ones)"
   ]
  },
  {
   "cell_type": "code",
   "execution_count": 11,
   "metadata": {},
   "outputs": [
    {
     "name": "stdout",
     "output_type": "stream",
     "text": [
      "tf.Tensor(\n",
      "[[0 0]\n",
      " [0 0]\n",
      " [0 0]], shape=(3, 2), dtype=int32)\n"
     ]
    }
   ],
   "source": [
    "t_zeros = tf.zeros((3,2), dtype = tf.int32)\n",
    "print(t_zeros)"
   ]
  },
  {
   "cell_type": "code",
   "execution_count": 12,
   "metadata": {},
   "outputs": [
    {
     "name": "stdout",
     "output_type": "stream",
     "text": [
      "tf.Tensor(\n",
      "[[0.048 0.77  0.642 0.894 0.535]\n",
      " [0.726 0.18  0.944 0.354 0.733]\n",
      " [0.069 0.76  0.204 0.472 0.716]], shape=(3, 5), dtype=float32)\n"
     ]
    }
   ],
   "source": [
    "t = tf.random.uniform(shape=(3,5))\n",
    "print(t)"
   ]
  },
  {
   "cell_type": "code",
   "execution_count": 13,
   "metadata": {},
   "outputs": [
    {
     "name": "stdout",
     "output_type": "stream",
     "text": [
      "tf.Tensor(\n",
      "[[0.048 0.726 0.069]\n",
      " [0.77  0.18  0.76 ]\n",
      " [0.642 0.944 0.204]\n",
      " [0.894 0.354 0.472]\n",
      " [0.535 0.733 0.716]], shape=(5, 3), dtype=float32)\n"
     ]
    }
   ],
   "source": [
    "t_tr = tf.transpose(t)\n",
    "print(t_tr)"
   ]
  },
  {
   "cell_type": "code",
   "execution_count": 14,
   "metadata": {},
   "outputs": [
    {
     "name": "stdout",
     "output_type": "stream",
     "text": [
      "(3, 5)  -->  (5, 3)\n"
     ]
    }
   ],
   "source": [
    "print(t.shape, ' --> ', t_tr.shape)"
   ]
  },
  {
   "cell_type": "code",
   "execution_count": 15,
   "metadata": {},
   "outputs": [
    {
     "name": "stdout",
     "output_type": "stream",
     "text": [
      "original  tf.Tensor(\n",
      "[0. 0. 0. 0. 0. 0. 0. 0. 0. 0. 0. 0. 0. 0. 0. 0. 0. 0. 0. 0. 0. 0. 0. 0.\n",
      " 0. 0. 0. 0. 0. 0.], shape=(30,), dtype=float32)\n",
      "\n",
      "re-shaped  tf.Tensor(\n",
      "[[0. 0. 0. 0. 0. 0.]\n",
      " [0. 0. 0. 0. 0. 0.]\n",
      " [0. 0. 0. 0. 0. 0.]\n",
      " [0. 0. 0. 0. 0. 0.]\n",
      " [0. 0. 0. 0. 0. 0.]], shape=(5, 6), dtype=float32)\n"
     ]
    }
   ],
   "source": [
    "t_zeros = tf.zeros((30,))\n",
    "print(\"original \",t_zeros, end = '\\n\\n')\n",
    "t_reshape = tf.reshape(t_zeros, shape=(5,6))\n",
    "print(\"re-shaped \", t_reshape)"
   ]
  },
  {
   "cell_type": "markdown",
   "metadata": {},
   "source": [
    "## 1.3 Removing unnecessary dimensions - `squeeze`"
   ]
  },
  {
   "cell_type": "code",
   "execution_count": 16,
   "metadata": {},
   "outputs": [
    {
     "name": "stdout",
     "output_type": "stream",
     "text": [
      "tf.Tensor(\n",
      "[[[[[0.]\n",
      "    [0.]\n",
      "    [0.]\n",
      "    [0.]]]\n",
      "\n",
      "\n",
      "  [[[0.]\n",
      "    [0.]\n",
      "    [0.]\n",
      "    [0.]]]]], shape=(1, 2, 1, 4, 1), dtype=float32)\n"
     ]
    }
   ],
   "source": [
    "t = tf.zeros((1,2,1,4,1))\n",
    "print(t)"
   ]
  },
  {
   "cell_type": "code",
   "execution_count": 17,
   "metadata": {},
   "outputs": [
    {
     "name": "stdout",
     "output_type": "stream",
     "text": [
      "tf.Tensor(\n",
      "[[[0. 0. 0. 0.]\n",
      "  [0. 0. 0. 0.]]], shape=(1, 2, 4), dtype=float32)\n"
     ]
    }
   ],
   "source": [
    "t_sqz = tf.squeeze(t, axis = (2,4))\n",
    "print(t_sqz)"
   ]
  },
  {
   "cell_type": "markdown",
   "metadata": {},
   "source": [
    "## 1.4 Accessing elements in tensor"
   ]
  },
  {
   "cell_type": "code",
   "execution_count": 18,
   "metadata": {},
   "outputs": [
    {
     "data": {
      "text/plain": [
       "array([0., 0., 0., 0., 0., 0., 0., 0., 0., 0., 0., 0., 0., 0., 0., 0., 0.,\n",
       "       0., 0., 0., 0., 0., 0., 0., 0., 0., 0., 0., 0., 0.], dtype=float32)"
      ]
     },
     "execution_count": 18,
     "metadata": {},
     "output_type": "execute_result"
    }
   ],
   "source": [
    "# to access on the values out of tensor\n",
    "t_zeros.numpy()"
   ]
  },
  {
   "cell_type": "code",
   "execution_count": 19,
   "metadata": {},
   "outputs": [
    {
     "data": {
      "text/plain": [
       "array([[1., 1., 1.],\n",
       "       [1., 1., 1.]], dtype=float32)"
      ]
     },
     "execution_count": 19,
     "metadata": {},
     "output_type": "execute_result"
    }
   ],
   "source": [
    "# to access on the values out of tensor\n",
    "t_ones.numpy()"
   ]
  },
  {
   "cell_type": "code",
   "execution_count": 20,
   "metadata": {},
   "outputs": [
    {
     "data": {
      "text/plain": [
       "TensorShape([2, 3])"
      ]
     },
     "execution_count": 20,
     "metadata": {},
     "output_type": "execute_result"
    }
   ],
   "source": [
    "t_ones.shape"
   ]
  },
  {
   "cell_type": "markdown",
   "metadata": {},
   "source": [
    "## 1.5 changing datatype"
   ]
  },
  {
   "cell_type": "code",
   "execution_count": 21,
   "metadata": {},
   "outputs": [
    {
     "name": "stdout",
     "output_type": "stream",
     "text": [
      "tf.Tensor([1 2 3 4 5], shape=(5,), dtype=int64)\n"
     ]
    }
   ],
   "source": [
    "t_a_new = tf.cast(t_a, tf.int64)\n",
    "print(t_a_new)"
   ]
  },
  {
   "cell_type": "markdown",
   "metadata": {},
   "source": [
    "# 2. Mathematical operations to tensors"
   ]
  },
  {
   "cell_type": "code",
   "execution_count": 22,
   "metadata": {},
   "outputs": [],
   "source": [
    "tf.random.set_seed(1)"
   ]
  },
  {
   "cell_type": "markdown",
   "metadata": {},
   "source": [
    "## 2.1 Built in mathematical functions"
   ]
  },
  {
   "cell_type": "code",
   "execution_count": 23,
   "metadata": {},
   "outputs": [
    {
     "name": "stdout",
     "output_type": "stream",
     "text": [
      "tf.Tensor(\n",
      "[[-0.67   0.803]\n",
      " [ 0.262 -0.131]\n",
      " [-0.416  0.285]\n",
      " [ 0.952 -0.13 ]\n",
      " [ 0.32   0.21 ]], shape=(5, 2), dtype=float32)\n"
     ]
    }
   ],
   "source": [
    "# creating tensor with uniform distribution between -1.0 and 1.0\n",
    "t1 = tf.random.uniform(shape = (5,2), minval = -1.0, maxval = 1.0)\n",
    "print(t1)"
   ]
  },
  {
   "cell_type": "code",
   "execution_count": 24,
   "metadata": {},
   "outputs": [
    {
     "name": "stdout",
     "output_type": "stream",
     "text": [
      "tf.Tensor(\n",
      "[[ 0.403 -1.088]\n",
      " [-0.063  1.337]\n",
      " [ 0.712 -0.489]\n",
      " [-0.764 -1.037]\n",
      " [-1.252  0.021]], shape=(5, 2), dtype=float32)\n"
     ]
    }
   ],
   "source": [
    "# creating tensor with Gaussian distribution\n",
    "t2 = tf.random.normal(shape = (5,2), mean = 0.0, stddev = 1.0)\n",
    "print(t2)"
   ]
  },
  {
   "cell_type": "code",
   "execution_count": 25,
   "metadata": {},
   "outputs": [
    {
     "name": "stdout",
     "output_type": "stream",
     "text": [
      "[[-0.27  -0.874]\n",
      " [-0.017 -0.175]\n",
      " [-0.296 -0.139]\n",
      " [-0.727  0.135]\n",
      " [-0.401  0.004]]\n"
     ]
    }
   ],
   "source": [
    "t3 = tf.multiply(t1, t2).numpy() # element-wise multiplication\n",
    "print(t3)"
   ]
  },
  {
   "cell_type": "code",
   "execution_count": 26,
   "metadata": {},
   "outputs": [
    {
     "name": "stdout",
     "output_type": "stream",
     "text": [
      "[[-0.267 -0.285]\n",
      " [ 0.199  1.206]\n",
      " [ 0.296 -0.204]\n",
      " [ 0.187 -1.167]\n",
      " [-0.932  0.231]]\n"
     ]
    }
   ],
   "source": [
    "t4 = tf.add(t1,t2).numpy()\n",
    "print(t4)"
   ]
  },
  {
   "cell_type": "code",
   "execution_count": 27,
   "metadata": {},
   "outputs": [
    {
     "name": "stdout",
     "output_type": "stream",
     "text": [
      "[[-1.662 -0.738]\n",
      " [-4.152 -0.098]\n",
      " [-0.585 -0.582]\n",
      " [-1.245  0.125]\n",
      " [-0.256  9.885]]\n"
     ]
    }
   ],
   "source": [
    "t5 = tf.divide(t1,t2).numpy()\n",
    "print(t5)"
   ]
  },
  {
   "cell_type": "code",
   "execution_count": 28,
   "metadata": {},
   "outputs": [
    {
     "name": "stdout",
     "output_type": "stream",
     "text": [
      "[[-1.073  1.891]\n",
      " [ 0.325 -1.467]\n",
      " [-1.128  0.774]\n",
      " [ 1.716  0.907]\n",
      " [ 1.572  0.189]]\n"
     ]
    }
   ],
   "source": [
    "t6 = tf.subtract(t1,t2).numpy()\n",
    "print(t6)"
   ]
  },
  {
   "cell_type": "code",
   "execution_count": 29,
   "metadata": {},
   "outputs": [
    {
     "data": {
      "text/plain": [
       "array([-0.27 , -0.017, -0.296, -0.727, -0.401], dtype=float32)"
      ]
     },
     "execution_count": 29,
     "metadata": {},
     "output_type": "execute_result"
    }
   ],
   "source": [
    "# to extract 1st column\n",
    "t3[:, 0] "
   ]
  },
  {
   "cell_type": "markdown",
   "metadata": {},
   "source": [
    "## 2.2 Computing mean(), sum(), standard deviation along axis"
   ]
  },
  {
   "cell_type": "code",
   "execution_count": 30,
   "metadata": {},
   "outputs": [
    {
     "name": "stdout",
     "output_type": "stream",
     "text": [
      "tf.Tensor([0.09  0.207], shape=(2,), dtype=float32)\n"
     ]
    },
    {
     "data": {
      "text/plain": [
       "array([0.09 , 0.207], dtype=float32)"
      ]
     },
     "execution_count": 30,
     "metadata": {},
     "output_type": "execute_result"
    }
   ],
   "source": [
    "t_reduce_mean = tf.math.reduce_mean(t1, axis = 0)  # axis = 0 means along the columns\n",
    "print(t_reduce_mean)\n",
    "t_reduce_mean.numpy()"
   ]
  },
  {
   "cell_type": "code",
   "execution_count": 31,
   "metadata": {},
   "outputs": [
    {
     "data": {
      "text/plain": [
       "<tf.Tensor: id=48, shape=(5,), dtype=float32, numpy=array([ 0.133,  0.131, -0.131,  0.822,  0.53 ], dtype=float32)>"
      ]
     },
     "execution_count": 31,
     "metadata": {},
     "output_type": "execute_result"
    }
   ],
   "source": [
    "tf.math.reduce_sum(t1, axis = 1)"
   ]
  },
  {
   "cell_type": "code",
   "execution_count": 32,
   "metadata": {},
   "outputs": [
    {
     "data": {
      "text/plain": [
       "array([0.576, 0.343], dtype=float32)"
      ]
     },
     "execution_count": 32,
     "metadata": {},
     "output_type": "execute_result"
    }
   ],
   "source": [
    "tf.math.reduce_std(t1, axis = 0).numpy()"
   ]
  },
  {
   "cell_type": "code",
   "execution_count": 33,
   "metadata": {},
   "outputs": [
    {
     "data": {
      "text/plain": [
       "array([0.022, 0.001], dtype=float32)"
      ]
     },
     "execution_count": 33,
     "metadata": {},
     "output_type": "execute_result"
    }
   ],
   "source": [
    "tf.math.reduce_prod(t1, axis = 0).numpy()"
   ]
  },
  {
   "cell_type": "code",
   "execution_count": 34,
   "metadata": {},
   "outputs": [
    {
     "name": "stdout",
     "output_type": "stream",
     "text": [
      "[[-1.144  1.115 -0.87  -0.321  0.856]\n",
      " [ 0.248 -0.191  0.25  -0.064 -0.331]\n",
      " [-0.478  0.407 -0.436  0.022  0.527]\n",
      " [ 0.525 -0.234  0.741 -0.593 -1.194]\n",
      " [-0.099  0.26   0.125 -0.462 -0.396]]\n"
     ]
    }
   ],
   "source": [
    "# matrix-matrix multiplication\n",
    "t5 = tf.linalg.matmul(t1, t2, transpose_b = True)\n",
    "print(t5.numpy())"
   ]
  },
  {
   "cell_type": "code",
   "execution_count": 35,
   "metadata": {},
   "outputs": [
    {
     "name": "stdout",
     "output_type": "stream",
     "text": [
      "[[-1.711  0.302]\n",
      " [ 0.371 -1.049]]\n"
     ]
    }
   ],
   "source": [
    "t6 = tf.linalg.matmul(t1, t2, transpose_a = True)\n",
    "print(t6.numpy())"
   ]
  },
  {
   "cell_type": "markdown",
   "metadata": {},
   "source": [
    "## 2.3 Calculating the norm of the tensor"
   ]
  },
  {
   "cell_type": "code",
   "execution_count": 36,
   "metadata": {},
   "outputs": [
    {
     "name": "stdout",
     "output_type": "stream",
     "text": [
      "tf.Tensor(\n",
      "[[-0.67   0.803]\n",
      " [ 0.262 -0.131]\n",
      " [-0.416  0.285]\n",
      " [ 0.952 -0.13 ]\n",
      " [ 0.32   0.21 ]], shape=(5, 2), dtype=float32)\n"
     ]
    }
   ],
   "source": [
    "print(t1)"
   ]
  },
  {
   "cell_type": "code",
   "execution_count": 37,
   "metadata": {},
   "outputs": [
    {
     "name": "stdout",
     "output_type": "stream",
     "text": [
      "[1.046 0.293 0.504 0.96  0.383]\n"
     ]
    }
   ],
   "source": [
    "# norm 2 (L-2 norm) of the tensor t1\n",
    "norm_t1 = tf.norm(t1, ord = 2, axis = 1).numpy()\n",
    "print(norm_t1)"
   ]
  },
  {
   "cell_type": "markdown",
   "metadata": {},
   "source": [
    " $l_2-norm:\\sqrt(x_i^2 + y_i^2)$"
   ]
  },
  {
   "cell_type": "code",
   "execution_count": 38,
   "metadata": {},
   "outputs": [
    {
     "data": {
      "text/plain": [
       "array([1.046, 0.293, 0.504, 0.96 , 0.383], dtype=float32)"
      ]
     },
     "execution_count": 38,
     "metadata": {},
     "output_type": "execute_result"
    }
   ],
   "source": [
    "np.sqrt(np.sum(np.square(t1), axis = 1))"
   ]
  },
  {
   "cell_type": "code",
   "execution_count": 39,
   "metadata": {},
   "outputs": [
    {
     "name": "stdout",
     "output_type": "stream",
     "text": [
      "[1.473 0.393 0.701 1.081 0.53 ]\n"
     ]
    }
   ],
   "source": [
    "# norm 1 (L-1 norm) of the tensor t1\n",
    "l1_norm_t1 = tf.norm(t1, ord = 1, axis = 1).numpy()\n",
    "print(l1_norm_t1)"
   ]
  },
  {
   "cell_type": "markdown",
   "metadata": {},
   "source": [
    "$l_1- norm : \\sum_{x=1}^{n}|x|$"
   ]
  },
  {
   "cell_type": "code",
   "execution_count": 40,
   "metadata": {},
   "outputs": [
    {
     "data": {
      "text/plain": [
       "array([1.473, 0.393, 0.701, 1.081, 0.53 ], dtype=float32)"
      ]
     },
     "execution_count": 40,
     "metadata": {},
     "output_type": "execute_result"
    }
   ],
   "source": [
    "np.sum(np.abs(t1), axis = 1)"
   ]
  },
  {
   "cell_type": "markdown",
   "metadata": {},
   "source": [
    "# 3. Split, Stack and Concatenate tensors"
   ]
  },
  {
   "cell_type": "markdown",
   "metadata": {},
   "source": [
    "## 3.1 Split"
   ]
  },
  {
   "cell_type": "code",
   "execution_count": 41,
   "metadata": {},
   "outputs": [
    {
     "name": "stdout",
     "output_type": "stream",
     "text": [
      "[ 0.659  0.268  0.029 -0.218  0.162 -0.903]\n"
     ]
    }
   ],
   "source": [
    "t = tf.random.uniform(shape = (6,), minval = -1, maxval = 1)\n",
    "print(t.numpy())"
   ]
  },
  {
   "cell_type": "code",
   "execution_count": 42,
   "metadata": {},
   "outputs": [
    {
     "name": "stdout",
     "output_type": "stream",
     "text": [
      "[<tf.Tensor: id=78, shape=(2,), dtype=float32, numpy=array([0.659, 0.268], dtype=float32)>, <tf.Tensor: id=79, shape=(2,), dtype=float32, numpy=array([ 0.029, -0.218], dtype=float32)>, <tf.Tensor: id=80, shape=(2,), dtype=float32, numpy=array([ 0.162, -0.903], dtype=float32)>]\n"
     ]
    },
    {
     "data": {
      "text/plain": [
       "[array([0.659, 0.268], dtype=float32),\n",
       " array([ 0.029, -0.218], dtype=float32),\n",
       " array([ 0.162, -0.903], dtype=float32)]"
      ]
     },
     "execution_count": 42,
     "metadata": {},
     "output_type": "execute_result"
    }
   ],
   "source": [
    "t_splits = tf.split(t, num_or_size_splits=3)\n",
    "print(t_splits) # list with partition\n",
    "[ item.numpy() for item in t_splits]"
   ]
  },
  {
   "cell_type": "code",
   "execution_count": 43,
   "metadata": {},
   "outputs": [
    {
     "name": "stdout",
     "output_type": "stream",
     "text": [
      "[0.659 0.268]\n",
      "[ 0.029 -0.218]\n",
      "[ 0.162 -0.903]\n"
     ]
    }
   ],
   "source": [
    "print(t_splits[0].numpy())\n",
    "print(t_splits[1].numpy())\n",
    "print(t_splits[2].numpy())"
   ]
  },
  {
   "cell_type": "code",
   "execution_count": 44,
   "metadata": {},
   "outputs": [
    {
     "data": {
      "text/plain": [
       "[<tf.Tensor: id=78, shape=(2,), dtype=float32, numpy=array([0.659, 0.268], dtype=float32)>,\n",
       " <tf.Tensor: id=79, shape=(2,), dtype=float32, numpy=array([ 0.029, -0.218], dtype=float32)>,\n",
       " <tf.Tensor: id=80, shape=(2,), dtype=float32, numpy=array([ 0.162, -0.903], dtype=float32)>]"
      ]
     },
     "execution_count": 44,
     "metadata": {},
     "output_type": "execute_result"
    }
   ],
   "source": [
    "# generates list with specified dimensions\n",
    "t_splits"
   ]
  },
  {
   "cell_type": "code",
   "execution_count": 45,
   "metadata": {},
   "outputs": [
    {
     "data": {
      "text/plain": [
       "[array([ 0.659,  0.268,  0.029, -0.218], dtype=float32),\n",
       " array([ 0.162, -0.903], dtype=float32)]"
      ]
     },
     "execution_count": 45,
     "metadata": {},
     "output_type": "execute_result"
    }
   ],
   "source": [
    "t_size_splits = tf.split(t, num_or_size_splits= [4,2])\n",
    "[ item.numpy() for item in t_size_splits ]"
   ]
  },
  {
   "cell_type": "markdown",
   "metadata": {},
   "source": [
    "## 3.2 Concatenate"
   ]
  },
  {
   "cell_type": "code",
   "execution_count": 46,
   "metadata": {},
   "outputs": [
    {
     "name": "stdout",
     "output_type": "stream",
     "text": [
      "A: [1. 1. 1.]\n",
      "B: [0. 0.]\n",
      "C: [1. 1. 1. 0. 0.]\n"
     ]
    }
   ],
   "source": [
    "A = tf.ones((3,))\n",
    "B = tf.zeros((2,))\n",
    "C = tf.concat([A, B], axis = 0)\n",
    "\n",
    "print(\"A:\",A.numpy())\n",
    "print(\"B:\",B.numpy())\n",
    "print(\"C:\",C.numpy())"
   ]
  },
  {
   "cell_type": "markdown",
   "metadata": {},
   "source": [
    "## 3.3 Stack"
   ]
  },
  {
   "cell_type": "code",
   "execution_count": 47,
   "metadata": {},
   "outputs": [
    {
     "name": "stdout",
     "output_type": "stream",
     "text": [
      "tf.Tensor(\n",
      "[[1. 0.]\n",
      " [1. 0.]\n",
      " [1. 0.]], shape=(3, 2), dtype=float32)\n"
     ]
    }
   ],
   "source": [
    "A = tf.ones((3,))\n",
    "B = tf.zeros((3,))\n",
    "\n",
    "C = tf.stack([A, B], axis = 1)\n",
    "print(C)"
   ]
  },
  {
   "cell_type": "markdown",
   "metadata": {},
   "source": [
    "# 4. Building input pipelines using tf.data"
   ]
  },
  {
   "cell_type": "markdown",
   "metadata": {},
   "source": [
    "- when dataset is very huge to fit in computer memory, we have to load the data in batch by batch from hard drive or solid state device\n",
    "- otherwise tf.keras `fit()` method is sufficient to load the data"
   ]
  },
  {
   "cell_type": "markdown",
   "metadata": {},
   "source": [
    "## 4.1 to create slices from dataset"
   ]
  },
  {
   "cell_type": "code",
   "execution_count": 48,
   "metadata": {},
   "outputs": [
    {
     "name": "stdout",
     "output_type": "stream",
     "text": [
      "<TensorSliceDataset shapes: (), types: tf.float32>\n"
     ]
    }
   ],
   "source": [
    "a = [1.2, 3.4, 7.5, 4.1, 5.0, 1.0]\n",
    "\n",
    "ds = tf.data.Dataset.from_tensor_slices(a)\n",
    "print(ds)"
   ]
  },
  {
   "cell_type": "code",
   "execution_count": 49,
   "metadata": {},
   "outputs": [
    {
     "name": "stdout",
     "output_type": "stream",
     "text": [
      "1.2\n",
      "3.4\n",
      "7.5\n",
      "4.1\n",
      "5.0\n",
      "1.0\n"
     ]
    }
   ],
   "source": [
    "for item in ds:\n",
    "    print(item.numpy())"
   ]
  },
  {
   "cell_type": "code",
   "execution_count": 50,
   "metadata": {},
   "outputs": [
    {
     "name": "stdout",
     "output_type": "stream",
     "text": [
      "tf.Tensor(1.2, shape=(), dtype=float32)\n",
      "tf.Tensor(3.4, shape=(), dtype=float32)\n",
      "tf.Tensor(7.5, shape=(), dtype=float32)\n",
      "tf.Tensor(4.1, shape=(), dtype=float32)\n",
      "tf.Tensor(5.0, shape=(), dtype=float32)\n",
      "tf.Tensor(1.0, shape=(), dtype=float32)\n"
     ]
    }
   ],
   "source": [
    "for item in ds:\n",
    "    print(item)"
   ]
  },
  {
   "cell_type": "markdown",
   "metadata": {},
   "source": [
    "## 4.2 to create the batches from the dataset"
   ]
  },
  {
   "cell_type": "code",
   "execution_count": 51,
   "metadata": {},
   "outputs": [
    {
     "name": "stdout",
     "output_type": "stream",
     "text": [
      "batch 0: [1.2 3.4 7.5]\n",
      "batch 1: [4.1 5.  1. ]\n"
     ]
    }
   ],
   "source": [
    "ds_batch = ds.batch(batch_size=3)\n",
    "for i, elem in enumerate(ds_batch):\n",
    "    print(f'batch {i}:', elem.numpy())"
   ]
  },
  {
   "cell_type": "code",
   "execution_count": 52,
   "metadata": {},
   "outputs": [
    {
     "name": "stdout",
     "output_type": "stream",
     "text": [
      "batch 0: [1 2 3 4 5]\n",
      "batch 1: [ 6  7  8  9 10]\n",
      "batch 2: [11 12 13 14 15]\n",
      "batch 3: [16 17 18 19]\n"
     ]
    }
   ],
   "source": [
    "ds_1 = np.arange(1,20)\n",
    "ds_1_batch = tf.data.Dataset.from_tensor_slices(ds_1).batch(batch_size=5, drop_remainder= False)\n",
    "for i, elem in enumerate(ds_1_batch):\n",
    "    print(f'batch {i}:', elem.numpy())"
   ]
  },
  {
   "cell_type": "markdown",
   "metadata": {},
   "source": [
    "## 4.3 combine two tensors into a joint datasets"
   ]
  },
  {
   "cell_type": "code",
   "execution_count": 53,
   "metadata": {},
   "outputs": [],
   "source": [
    "tf.random.set_seed(1)\n",
    "t_x = tf.random.uniform((4,3), minval = -1.0, maxval = 1.0, dtype = tf.float32)\n",
    "t_y = tf.range(4)"
   ]
  },
  {
   "cell_type": "code",
   "execution_count": 54,
   "metadata": {},
   "outputs": [
    {
     "name": "stdout",
     "output_type": "stream",
     "text": [
      "t_x:\n",
      " [[-0.67   0.803  0.262]\n",
      " [-0.131 -0.416  0.285]\n",
      " [ 0.952 -0.13   0.32 ]\n",
      " [ 0.21   0.273  0.229]]\n",
      "\n",
      "t_y:\n",
      " [0 1 2 3]\n"
     ]
    }
   ],
   "source": [
    "print('t_x:\\n', t_x.numpy(), end = '\\n\\n')\n",
    "print('t_y:\\n', t_y.numpy())"
   ]
  },
  {
   "cell_type": "code",
   "execution_count": 55,
   "metadata": {},
   "outputs": [
    {
     "name": "stdout",
     "output_type": "stream",
     "text": [
      "<ZipDataset shapes: ((3,), ()), types: (tf.float32, tf.int32)>\n"
     ]
    }
   ],
   "source": [
    "ds_x = tf.data.Dataset.from_tensor_slices(t_x) # consider as features\n",
    "ds_y = tf.data.Dataset.from_tensor_slices(t_y) # consider as labels / target\n",
    "ds_joint = tf.data.Dataset.zip((ds_x, ds_y))\n",
    "print(ds_joint)"
   ]
  },
  {
   "cell_type": "code",
   "execution_count": 56,
   "metadata": {},
   "outputs": [
    {
     "name": "stdout",
     "output_type": "stream",
     "text": [
      "x: [-0.67   0.803  0.262]   y: 0\n",
      "x: [-0.131 -0.416  0.285]   y: 1\n",
      "x: [ 0.952 -0.13   0.32 ]   y: 2\n",
      "x: [0.21  0.273 0.229]   y: 3\n"
     ]
    }
   ],
   "source": [
    "for eg in ds_joint:\n",
    "    print('x:', eg[0].numpy(), '  y:', eg[1].numpy())"
   ]
  },
  {
   "cell_type": "code",
   "execution_count": 57,
   "metadata": {},
   "outputs": [
    {
     "name": "stdout",
     "output_type": "stream",
     "text": [
      "x: [-0.67   0.803  0.262]   y: 0\n",
      "x: [-0.131 -0.416  0.285]   y: 1\n",
      "x: [ 0.952 -0.13   0.32 ]   y: 2\n",
      "x: [0.21  0.273 0.229]   y: 3\n"
     ]
    }
   ],
   "source": [
    "# alternative to above\n",
    "ds_joint_alt = tf.data.Dataset.from_tensor_slices((t_x, t_y))\n",
    "for eg in ds_joint_alt:\n",
    "    print('x:', eg[0].numpy(), '  y:', eg[1].numpy())"
   ]
  },
  {
   "cell_type": "markdown",
   "metadata": {},
   "source": [
    "## 4.4 transformation on dataset from two tensors"
   ]
  },
  {
   "cell_type": "code",
   "execution_count": 58,
   "metadata": {},
   "outputs": [
    {
     "name": "stdout",
     "output_type": "stream",
     "text": [
      "x: [2.339 0.606 0.476]   y: 0\n",
      "x: [1.262 1.832 0.43 ]   y: 1\n",
      "x: [0.903 1.26  0.36 ]   y: 2\n",
      "x: [0.58  0.453 0.542]   y: 3\n"
     ]
    }
   ],
   "source": [
    "ds_trans = ds_joint.map(lambda x,y: ( abs(x*2 - 1.0), y ) )\n",
    "for eg in ds_trans:\n",
    "    print('x:', eg[0].numpy(), '  y:', eg[1].numpy())"
   ]
  },
  {
   "cell_type": "markdown",
   "metadata": {},
   "source": [
    "## 4.5 shuffle"
   ]
  },
  {
   "cell_type": "markdown",
   "metadata": {},
   "source": [
    "- `.shuffle()` method requires an argument called `buffer_size`, which is determines how many elememts in the dataset are grouped together before shuffling.\n",
    "- if dataset is small, choosing the small `buffer_size` negatively affects the predictive performance of the neural-net as the dataset may not be completely randomized"
   ]
  },
  {
   "cell_type": "code",
   "execution_count": 59,
   "metadata": {},
   "outputs": [
    {
     "name": "stdout",
     "output_type": "stream",
     "text": [
      "x: [-0.131 -0.416  0.285]   y: 1\n",
      "x: [ 0.952 -0.13   0.32 ]   y: 2\n",
      "x: [0.21  0.273 0.229]   y: 3\n",
      "x: [-0.67   0.803  0.262]   y: 0\n"
     ]
    }
   ],
   "source": [
    "# Rows are shuffled without loosing one to one correspondence between the entries x and y.\n",
    "# to ensure the complete randomized dataset, set buffer_size = length of traning data\n",
    "ds_2 = ds_joint.shuffle(buffer_size=len(t_x))\n",
    "for eg in ds_2:\n",
    "    print('x:', eg[0].numpy(), '  y:', eg[1].numpy())"
   ]
  },
  {
   "cell_type": "code",
   "execution_count": 60,
   "metadata": {},
   "outputs": [
    {
     "name": "stdout",
     "output_type": "stream",
     "text": [
      "x: [ 0.952 -0.13   0.32 ]   y: 2\n",
      "x: [-0.131 -0.416  0.285]   y: 1\n",
      "x: [-0.67   0.803  0.262]   y: 0\n",
      "x: [0.21  0.273 0.229]   y: 3\n"
     ]
    }
   ],
   "source": [
    "# Rows are shuffled without loosing one to one correspondence between the entries x and y.\n",
    "ds_3 = ds_joint.shuffle(buffer_size=len(t_y))\n",
    "for eg in ds_3:\n",
    "    print('x:', eg[0].numpy(), '  y:', eg[1].numpy())"
   ]
  },
  {
   "cell_type": "code",
   "execution_count": 61,
   "metadata": {},
   "outputs": [
    {
     "name": "stdout",
     "output_type": "stream",
     "text": [
      "x: [-0.67   0.803  0.262]   y: 0\n",
      "x: [-0.131 -0.416  0.285]   y: 1\n",
      "x: [0.21  0.273 0.229]   y: 3\n",
      "x: [ 0.952 -0.13   0.32 ]   y: 2\n"
     ]
    }
   ],
   "source": [
    "# Rows are shuffled without loosing one to one correspondence between the entries x and y.\n",
    "ds_3 = ds_joint.shuffle(buffer_size= 5)\n",
    "for eg in ds_3:\n",
    "    print('x:', eg[0].numpy(), '  y:', eg[1].numpy())"
   ]
  },
  {
   "cell_type": "code",
   "execution_count": 73,
   "metadata": {},
   "outputs": [
    {
     "name": "stdout",
     "output_type": "stream",
     "text": [
      "x: [-0.67   0.803  0.262]   y: 0\n",
      "x: [-0.131 -0.416  0.285]   y: 1\n",
      "x: [ 0.952 -0.13   0.32 ]   y: 2\n",
      "x: [0.21  0.273 0.229]   y: 3\n",
      "x: [-0.67   0.803  0.262]   y: 0\n",
      "x: [-0.131 -0.416  0.285]   y: 1\n",
      "x: [ 0.952 -0.13   0.32 ]   y: 2\n",
      "x: [0.21  0.273 0.229]   y: 3\n"
     ]
    }
   ],
   "source": [
    "ds_3 = ds_joint.repeat(count= 2)\n",
    "for eg in ds_3:\n",
    "    print('x:', eg[0].numpy(), '  y:', eg[1].numpy())"
   ]
  },
  {
   "cell_type": "markdown",
   "metadata": {},
   "source": [
    "## 4.6+ Batch"
   ]
  },
  {
   "cell_type": "code",
   "execution_count": 62,
   "metadata": {},
   "outputs": [],
   "source": [
    "ds = ds_joint.batch(3, drop_remainder=False)\n",
    "batch_x, batch_y = next(iter(ds))\n"
   ]
  },
  {
   "cell_type": "code",
   "execution_count": 63,
   "metadata": {},
   "outputs": [
    {
     "data": {
      "text/plain": [
       "<tf.Tensor: id=300, shape=(3, 3), dtype=float32, numpy=\n",
       "array([[-0.67 ,  0.803,  0.262],\n",
       "       [-0.131, -0.416,  0.285],\n",
       "       [ 0.952, -0.13 ,  0.32 ]], dtype=float32)>"
      ]
     },
     "execution_count": 63,
     "metadata": {},
     "output_type": "execute_result"
    }
   ],
   "source": [
    "batch_x"
   ]
  },
  {
   "cell_type": "code",
   "execution_count": 64,
   "metadata": {},
   "outputs": [
    {
     "data": {
      "text/plain": [
       "<tf.Tensor: id=301, shape=(3,), dtype=int32, numpy=array([0, 1, 2])>"
      ]
     },
     "execution_count": 64,
     "metadata": {},
     "output_type": "execute_result"
    }
   ],
   "source": [
    "batch_y"
   ]
  },
  {
   "cell_type": "code",
   "execution_count": 65,
   "metadata": {},
   "outputs": [
    {
     "name": "stdout",
     "output_type": "stream",
     "text": [
      "(<tf.Tensor: id=307, shape=(3, 3), dtype=float32, numpy=\n",
      "array([[-0.67 ,  0.803,  0.262],\n",
      "       [-0.131, -0.416,  0.285],\n",
      "       [ 0.952, -0.13 ,  0.32 ]], dtype=float32)>, <tf.Tensor: id=308, shape=(3,), dtype=int32, numpy=array([0, 1, 2])>)\n",
      "(<tf.Tensor: id=309, shape=(1, 3), dtype=float32, numpy=array([[0.21 , 0.273, 0.229]], dtype=float32)>, <tf.Tensor: id=310, shape=(1,), dtype=int32, numpy=array([3])>)\n"
     ]
    }
   ],
   "source": [
    "for i in ds:\n",
    "    print(i)"
   ]
  },
  {
   "cell_type": "code",
   "execution_count": 71,
   "metadata": {},
   "outputs": [
    {
     "name": "stdout",
     "output_type": "stream",
     "text": [
      "(4, 3)\n",
      "(4,)\n",
      "<TensorSliceDataset shapes: ((3,), ()), types: (tf.float32, tf.int32)>\n"
     ]
    }
   ],
   "source": [
    "ds_joint = tf.data.Dataset.from_tensor_slices((t_x, t_y))\n",
    "print(t_x.shape)\n",
    "print(t_y.shape)\n",
    "print(ds_joint)"
   ]
  },
  {
   "cell_type": "code",
   "execution_count": 67,
   "metadata": {},
   "outputs": [
    {
     "name": "stdout",
     "output_type": "stream",
     "text": [
      "0 (2, 3) [0 2]\n",
      "1 (2, 3) [1 3]\n",
      "2 (2, 3) [1 0]\n",
      "3 (2, 3) [2 3]\n",
      "4 (2, 3) [3 1]\n",
      "5 (2, 3) [0 2]\n"
     ]
    }
   ],
   "source": [
    "# shuffle -> batch -> repeat\n",
    "ds = ds_joint.shuffle(buffer_size = 4).batch(batch_size = 2).repeat(count = 3)\n",
    "for i, (batch_x, batch_y) in enumerate(ds):\n",
    "    print(i, batch_x.shape, batch_y.numpy())"
   ]
  },
  {
   "cell_type": "code",
   "execution_count": 72,
   "metadata": {},
   "outputs": [
    {
     "name": "stdout",
     "output_type": "stream",
     "text": [
      "0 (2, 3) [2 3]\n",
      "1 (2, 3) [0 1]\n",
      "2 (2, 3) [0 1]\n",
      "3 (2, 3) [2 3]\n",
      "4 (2, 3) [0 1]\n",
      "5 (2, 3) [2 3]\n"
     ]
    }
   ],
   "source": [
    "# batch -> shuffle -> repeat\n",
    "ds = ds_joint.batch(batch_size = 2).shuffle(buffer_size = 4).repeat(count = 3)\n",
    "for i, (batch_x, batch_y) in enumerate(ds):\n",
    "    print(i, batch_x.shape, batch_y.numpy())\n"
   ]
  }
 ],
 "metadata": {
  "kernelspec": {
   "display_name": "Python 3",
   "language": "python",
   "name": "python3"
  },
  "language_info": {
   "codemirror_mode": {
    "name": "ipython",
    "version": 3
   },
   "file_extension": ".py",
   "mimetype": "text/x-python",
   "name": "python",
   "nbconvert_exporter": "python",
   "pygments_lexer": "ipython3",
   "version": "3.6.8"
  }
 },
 "nbformat": 4,
 "nbformat_minor": 2
}
